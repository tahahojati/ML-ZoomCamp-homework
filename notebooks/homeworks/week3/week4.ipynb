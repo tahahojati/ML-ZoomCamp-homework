{
 "cells": [
  {
   "cell_type": "code",
   "execution_count": 1,
   "id": "753041ff",
   "metadata": {},
   "outputs": [],
   "source": [
    "import numpy as np\n",
    "import pandas as pd\n",
    "from matplotlib import pyplot as plt\n"
   ]
  },
  {
   "cell_type": "code",
   "execution_count": 2,
   "id": "0383016f",
   "metadata": {},
   "outputs": [],
   "source": [
    "df = pd.read_csv('https://raw.githubusercontent.com/alexeygrigorev/datasets/master/course_lead_scoring.csv')"
   ]
  },
  {
   "cell_type": "code",
   "execution_count": 3,
   "id": "2df4a55a",
   "metadata": {},
   "outputs": [
    {
     "data": {
      "text/html": [
       "<div>\n",
       "<style scoped>\n",
       "    .dataframe tbody tr th:only-of-type {\n",
       "        vertical-align: middle;\n",
       "    }\n",
       "\n",
       "    .dataframe tbody tr th {\n",
       "        vertical-align: top;\n",
       "    }\n",
       "\n",
       "    .dataframe thead th {\n",
       "        text-align: right;\n",
       "    }\n",
       "</style>\n",
       "<table border=\"1\" class=\"dataframe\">\n",
       "  <thead>\n",
       "    <tr style=\"text-align: right;\">\n",
       "      <th></th>\n",
       "      <th>0</th>\n",
       "      <th>1</th>\n",
       "      <th>2</th>\n",
       "      <th>3</th>\n",
       "      <th>4</th>\n",
       "    </tr>\n",
       "  </thead>\n",
       "  <tbody>\n",
       "    <tr>\n",
       "      <th>lead_source</th>\n",
       "      <td>paid_ads</td>\n",
       "      <td>social_media</td>\n",
       "      <td>events</td>\n",
       "      <td>paid_ads</td>\n",
       "      <td>referral</td>\n",
       "    </tr>\n",
       "    <tr>\n",
       "      <th>industry</th>\n",
       "      <td>NaN</td>\n",
       "      <td>retail</td>\n",
       "      <td>healthcare</td>\n",
       "      <td>retail</td>\n",
       "      <td>education</td>\n",
       "    </tr>\n",
       "    <tr>\n",
       "      <th>number_of_courses_viewed</th>\n",
       "      <td>1</td>\n",
       "      <td>1</td>\n",
       "      <td>5</td>\n",
       "      <td>2</td>\n",
       "      <td>3</td>\n",
       "    </tr>\n",
       "    <tr>\n",
       "      <th>annual_income</th>\n",
       "      <td>79450.0</td>\n",
       "      <td>46992.0</td>\n",
       "      <td>78796.0</td>\n",
       "      <td>83843.0</td>\n",
       "      <td>85012.0</td>\n",
       "    </tr>\n",
       "    <tr>\n",
       "      <th>employment_status</th>\n",
       "      <td>unemployed</td>\n",
       "      <td>employed</td>\n",
       "      <td>unemployed</td>\n",
       "      <td>NaN</td>\n",
       "      <td>self_employed</td>\n",
       "    </tr>\n",
       "    <tr>\n",
       "      <th>location</th>\n",
       "      <td>south_america</td>\n",
       "      <td>south_america</td>\n",
       "      <td>australia</td>\n",
       "      <td>australia</td>\n",
       "      <td>europe</td>\n",
       "    </tr>\n",
       "    <tr>\n",
       "      <th>interaction_count</th>\n",
       "      <td>4</td>\n",
       "      <td>1</td>\n",
       "      <td>3</td>\n",
       "      <td>1</td>\n",
       "      <td>3</td>\n",
       "    </tr>\n",
       "    <tr>\n",
       "      <th>lead_score</th>\n",
       "      <td>0.94</td>\n",
       "      <td>0.8</td>\n",
       "      <td>0.69</td>\n",
       "      <td>0.87</td>\n",
       "      <td>0.62</td>\n",
       "    </tr>\n",
       "    <tr>\n",
       "      <th>converted</th>\n",
       "      <td>1</td>\n",
       "      <td>0</td>\n",
       "      <td>1</td>\n",
       "      <td>0</td>\n",
       "      <td>1</td>\n",
       "    </tr>\n",
       "  </tbody>\n",
       "</table>\n",
       "</div>"
      ],
      "text/plain": [
       "                                      0              1           2          3  \\\n",
       "lead_source                    paid_ads   social_media      events   paid_ads   \n",
       "industry                            NaN         retail  healthcare     retail   \n",
       "number_of_courses_viewed              1              1           5          2   \n",
       "annual_income                   79450.0        46992.0     78796.0    83843.0   \n",
       "employment_status            unemployed       employed  unemployed        NaN   \n",
       "location                  south_america  south_america   australia  australia   \n",
       "interaction_count                     4              1           3          1   \n",
       "lead_score                         0.94            0.8        0.69       0.87   \n",
       "converted                             1              0           1          0   \n",
       "\n",
       "                                      4  \n",
       "lead_source                    referral  \n",
       "industry                      education  \n",
       "number_of_courses_viewed              3  \n",
       "annual_income                   85012.0  \n",
       "employment_status         self_employed  \n",
       "location                         europe  \n",
       "interaction_count                     3  \n",
       "lead_score                         0.62  \n",
       "converted                             1  "
      ]
     },
     "execution_count": 3,
     "metadata": {},
     "output_type": "execute_result"
    }
   ],
   "source": [
    "df.head().T"
   ]
  },
  {
   "cell_type": "code",
   "execution_count": 14,
   "id": "0d80f474",
   "metadata": {},
   "outputs": [
    {
     "name": "stdout",
     "output_type": "stream",
     "text": [
      "lead_source                  object\n",
      "industry                     object\n",
      "number_of_courses_viewed      int64\n",
      "annual_income               float64\n",
      "employment_status            object\n",
      "location                     object\n",
      "interaction_count             int64\n",
      "lead_score                  float64\n",
      "converted                     int64\n",
      "dtype: object\n",
      "lead_source                 0\n",
      "industry                    0\n",
      "number_of_courses_viewed    0\n",
      "annual_income               0\n",
      "employment_status           0\n",
      "location                    0\n",
      "interaction_count           0\n",
      "lead_score                  0\n",
      "converted                   0\n",
      "dtype: int64\n"
     ]
    }
   ],
   "source": [
    "print(df.dtypes)\n",
    "print(df.isnull().sum())\n"
   ]
  },
  {
   "cell_type": "code",
   "execution_count": 12,
   "id": "40e80a68",
   "metadata": {},
   "outputs": [],
   "source": [
    "categorical = list(df.columns[df.dtypes == object])\n",
    "numerical = list(df.columns[df.dtypes != object])"
   ]
  },
  {
   "cell_type": "code",
   "execution_count": null,
   "id": "76013c85",
   "metadata": {},
   "outputs": [],
   "source": [
    "for c in categorical:\n",
    "    df[c] = df[c].fillna('NA')\n",
    "\n",
    "for c in numerical:\n",
    "    df[c] = df[c].fillna(0)\n"
   ]
  },
  {
   "cell_type": "code",
   "execution_count": 15,
   "id": "2fb282be",
   "metadata": {},
   "outputs": [],
   "source": [
    "import sklearn"
   ]
  },
  {
   "cell_type": "code",
   "execution_count": 16,
   "id": "1da4c2fb",
   "metadata": {},
   "outputs": [],
   "source": [
    "from sklearn.model_selection import train_test_split"
   ]
  },
  {
   "cell_type": "code",
   "execution_count": 20,
   "id": "b2a2f32c",
   "metadata": {},
   "outputs": [],
   "source": [
    "df_full_train, df_test = train_test_split(df, test_size=0.2, random_state=1)\n",
    "df_train, df_val = train_test_split(df_full_train, test_size=0.25, random_state=1)\n",
    "df_full_train, df_train, df_val, df_test = df_full_train.reset_index(drop=True), df_train.reset_index(drop=True), df_val.reset_index(drop=True), df_test.reset_index(drop=True)\n",
    "y_full_train, y_train, y_val, y_test = df_full_train.converted, df_train.converted, df_val.converted, df_test.converted"
   ]
  },
  {
   "cell_type": "code",
   "execution_count": 21,
   "id": "f2a11150",
   "metadata": {},
   "outputs": [],
   "source": [
    "from sklearn.metrics import roc_auc_score"
   ]
  },
  {
   "cell_type": "code",
   "execution_count": 28,
   "id": "2bb4aeb1",
   "metadata": {},
   "outputs": [
    {
     "data": {
      "text/plain": [
       "['number_of_courses_viewed',\n",
       " 'annual_income',\n",
       " 'interaction_count',\n",
       " 'lead_score',\n",
       " 'converted']"
      ]
     },
     "execution_count": 28,
     "metadata": {},
     "output_type": "execute_result"
    }
   ],
   "source": [
    "numerical\n"
   ]
  },
  {
   "cell_type": "code",
   "execution_count": 31,
   "id": "b306424b",
   "metadata": {},
   "outputs": [
    {
     "name": "stdout",
     "output_type": "stream",
     "text": [
      "number_of_courses_viewed  0.764\n",
      "annual_income  0.552\n",
      "interaction_count  0.738\n",
      "lead_score  0.614\n",
      "converted  1.000\n"
     ]
    }
   ],
   "source": [
    "#Question 1:\n",
    "for c in numerical: \n",
    "    rocc = roc_auc_score(y_train.values, df_train[c].values )\n",
    "    print('%s  %.3f' % (c, rocc))"
   ]
  },
  {
   "cell_type": "code",
   "execution_count": 32,
   "id": "6cfe0e15",
   "metadata": {},
   "outputs": [],
   "source": [
    "from sklearn.linear_model import LogisticRegression\n",
    "from sklearn.feature_extraction import DictVectorizer"
   ]
  },
  {
   "cell_type": "code",
   "execution_count": 119,
   "id": "e27b6444",
   "metadata": {},
   "outputs": [],
   "source": [
    "def train(df, C = 1):\n",
    "    y = df.converted\n",
    "    X = df.copy()\n",
    "    # del X['converted']\n",
    "    dv = DictVectorizer(sparse=False)\n",
    "    model = LogisticRegression(solver='liblinear', C=C, max_iter=1000)\n",
    "    X = dv.fit_transform(X.to_dict(orient='records'))\n",
    "    model.fit(X, y)\n",
    "    return dv, model\n",
    "def predict_and_score(model, dv, df):\n",
    "    y = df.converted\n",
    "    X = df.copy()\n",
    "    # del X['converted']\n",
    "    X = dv.transform(X.to_dict(orient = 'records'))\n",
    "    y_pred = model.predict_proba(X)[:, 1] \n",
    "    return roc_auc_score(y, (y_pred> 0.5).astype(int))\n",
    "def eval_thresholds(model, dv, df):\n",
    "    y = df.converted\n",
    "    X = df.copy()\n",
    "    # del X['converted']\n",
    "    X = dv.transform(X.to_dict(orient = 'records'))\n",
    "    preds = pd.DataFrame()\n",
    "    preds['y'], preds['prob'] = y,  model.predict_proba(X)[:,1]\n",
    "    scores = pd.DataFrame()\n",
    "    scores['threshold'] = np.arange(0, 1, 0.01)\n",
    "    scores['auc'] = [roc_auc_score(y, (preds.prob > th).astype(int)) for th in scores.threshold]\n",
    "    scores['fp'] = [((~y) & (preds.prob > th)).mean() for th in scores.threshold]\n",
    "    scores['tp'] = [(y & (preds.prob > th)).mean() for th in scores.threshold]\n",
    "    scores['fn'] = [(y & (preds.prob <= th)).mean() for th in scores.threshold]\n",
    "    scores['tn'] = [((~ y) & (preds.prob <= th)).mean() for th in scores.threshold]\n",
    "    scores['recall'] = scores.tp/(scores.tp + scores.fn)\n",
    "    scores['percision'] = scores.tp/(scores.tp + scores.fp)\n",
    "    scores['F1'] = 2 * scores.percision * scores.recall / (scores.percision + scores.recall)\n",
    "    plt.figure(figsize=(5, 5))\n",
    "    plt.plot(scores.threshold, scores.percision, label = 'percision')\n",
    "    plt.plot(scores.threshold, scores.recall, label = 'recall')\n",
    "    plt.plot(scores.threshold, scores.F1, label = 'F1')\n",
    "\n",
    "    plt.xlabel('Threshold')\n",
    "    plt.legend()\n",
    "    plt.show"
   ]
  },
  {
   "cell_type": "code",
   "execution_count": 107,
   "id": "426fca24",
   "metadata": {},
   "outputs": [
    {
     "data": {
      "image/png": "[encoded data removed]",
      "text/plain": [
       "<Figure size 500x500 with 1 Axes>"
      ]
     },
     "metadata": {},
     "output_type": "display_data"
    }
   ],
   "source": [
    "eval_thresholds(m, t, df_val)"
   ]
  },
  {
   "cell_type": "code",
   "execution_count": 112,
   "id": "809ecb06",
   "metadata": {},
   "outputs": [
    {
     "name": "stdout",
     "output_type": "stream",
     "text": [
      "    lead_source   industry  number_of_courses_viewed  annual_income  \\\n",
      "0      referral         NA                         1        56659.0   \n",
      "1  social_media  education                         2        66171.0   \n",
      "2        events    finance                         1        66523.0   \n",
      "3  social_media    finance                         1        56746.0   \n",
      "4      referral         NA                         0        55449.0   \n",
      "\n",
      "  employment_status       location  interaction_count  lead_score  converted  \n",
      "0          employed           asia                  4        0.75          1  \n",
      "1        unemployed  north_america                  2        0.66          0  \n",
      "2     self_employed         europe                  3        0.64          1  \n",
      "3           student  north_america                  3        0.98          0  \n",
      "4           student      australia                  4        0.47          0  \n"
     ]
    }
   ],
   "source": [
    "from sklearn.model_selection import KFold\n",
    "print(df_full_train.head())"
   ]
  },
  {
   "cell_type": "code",
   "execution_count": 120,
   "id": "7829b3e1",
   "metadata": {},
   "outputs": [
    {
     "name": "stdout",
     "output_type": "stream",
     "text": [
      "[np.float64(0.7451593119359832), np.float64(0.7412499520282458), np.float64(0.7513528034693173), np.float64(0.7521344127843883), np.float64(0.7423737614123145)]\n"
     ]
    },
    {
     "data": {
      "text/plain": [
       "np.float64(0.004509369007482635)"
      ]
     },
     "execution_count": 120,
     "metadata": {},
     "output_type": "execute_result"
    }
   ],
   "source": [
    "kfold = KFold(n_splits=5, shuffle=True, random_state=1)\n",
    "scores = []\n",
    "for train_idx, val_idx in kfold.split(df_full_train):\n",
    "    X = df_full_train.iloc[train_idx]\n",
    "    dv,model = train(X)\n",
    "    scores.append(predict_and_score(model, dv, X))\n",
    "print(scores)\n",
    "np.std(scores)\n"
   ]
  },
  {
   "cell_type": "code",
   "execution_count": 123,
   "id": "93b3b896",
   "metadata": {},
   "outputs": [
    {
     "name": "stdout",
     "output_type": "stream",
     "text": [
      "Requirement already satisfied: tqdm in /home/codespace/.python/current/lib/python3.12/site-packages (4.66.4)\n"
     ]
    }
   ],
   "source": [
    "!pip install tqdm\n",
    "from tqdm.auto import tqdm"
   ]
  },
  {
   "cell_type": "code",
   "execution_count": 124,
   "id": "300eade8",
   "metadata": {},
   "outputs": [
    {
     "data": {
      "application/vnd.jupyter.widget-view+json": {
       "model_id": "f69eea919c8a482aabc61b64d8f36915",
       "version_major": 2,
       "version_minor": 0
      },
      "text/plain": [
       "  0%|          | 0/3 [00:00<?, ?it/s]"
      ]
     },
     "metadata": {},
     "output_type": "display_data"
    },
    {
     "name": "stdout",
     "output_type": "stream",
     "text": [
      "[(np.float64(-0.7464540483260498), np.float64(0.004509369007482635), 1), (np.float64(-0.5082587057769207), np.float64(0.000846570975662988), 0.001), (np.float64(-0.5002724795640328), np.float64(0.0005449591280654254), 1e-06)]\n"
     ]
    }
   ],
   "source": [
    "res = []\n",
    "for C in  tqdm([0.000001, 0.001, 1]):\n",
    "    kfold = KFold(n_splits=5, shuffle=True, random_state=1)\n",
    "    scores = []\n",
    "    for train_idx, val_idx in kfold.split(df_full_train):\n",
    "        X = df_full_train.iloc[train_idx]\n",
    "        dv,model = train(X, C)\n",
    "        scores.append(predict_and_score(model, dv, X))\n",
    "    res.append((- np.mean(scores), np.std(scores), C))\n",
    "\n",
    "print(sorted(res))"
   ]
  },
  {
   "cell_type": "code",
   "execution_count": null,
   "id": "3539ad6c",
   "metadata": {},
   "outputs": [],
   "source": []
  }
 ],
 "metadata": {
  "kernelspec": {
   "display_name": "Python 3",
   "language": "python",
   "name": "python3"
  },
  "language_info": {
   "codemirror_mode": {
    "name": "ipython",
    "version": 3
   },
   "file_extension": ".py",
   "mimetype": "text/x-python",
   "name": "python",
   "nbconvert_exporter": "python",
   "pygments_lexer": "ipython3",
   "version": "3.12.1"
  }
 },
 "nbformat": 4,
 "nbformat_minor": 5
}
