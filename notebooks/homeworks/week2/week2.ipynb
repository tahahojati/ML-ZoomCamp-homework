{
 "cells": [
  {
   "cell_type": "code",
   "execution_count": 1,
   "id": "a545a71a",
   "metadata": {},
   "outputs": [],
   "source": [
    "import numpy as np\n",
    "import pandas as pd\n",
    "import seaborn as sns\n",
    "from matplotlib import pyplot as plt\n",
    "%matplotlib inline"
   ]
  },
  {
   "cell_type": "code",
   "execution_count": 4,
   "id": "c7b5f03d",
   "metadata": {},
   "outputs": [],
   "source": [
    "carData = pd.read_csv(\"https://raw.githubusercontent.com/alexeygrigorev/mlbookcamp-code/refs/heads/master/chapter-02-car-price/data.csv\")"
   ]
  },
  {
   "cell_type": "code",
   "execution_count": 5,
   "id": "978882d4",
   "metadata": {},
   "outputs": [
    {
     "data": {
      "text/html": [
       "<div>\n",
       "<style scoped>\n",
       "    .dataframe tbody tr th:only-of-type {\n",
       "        vertical-align: middle;\n",
       "    }\n",
       "\n",
       "    .dataframe tbody tr th {\n",
       "        vertical-align: top;\n",
       "    }\n",
       "\n",
       "    .dataframe thead th {\n",
       "        text-align: right;\n",
       "    }\n",
       "</style>\n",
       "<table border=\"1\" class=\"dataframe\">\n",
       "  <thead>\n",
       "    <tr style=\"text-align: right;\">\n",
       "      <th></th>\n",
       "      <th>Make</th>\n",
       "      <th>Model</th>\n",
       "      <th>Year</th>\n",
       "      <th>Engine Fuel Type</th>\n",
       "      <th>Engine HP</th>\n",
       "      <th>Engine Cylinders</th>\n",
       "      <th>Transmission Type</th>\n",
       "      <th>Driven_Wheels</th>\n",
       "      <th>Number of Doors</th>\n",
       "      <th>Market Category</th>\n",
       "      <th>Vehicle Size</th>\n",
       "      <th>Vehicle Style</th>\n",
       "      <th>highway MPG</th>\n",
       "      <th>city mpg</th>\n",
       "      <th>Popularity</th>\n",
       "      <th>MSRP</th>\n",
       "    </tr>\n",
       "  </thead>\n",
       "  <tbody>\n",
       "    <tr>\n",
       "      <th>0</th>\n",
       "      <td>BMW</td>\n",
       "      <td>1 Series M</td>\n",
       "      <td>2011</td>\n",
       "      <td>premium unleaded (required)</td>\n",
       "      <td>335.0</td>\n",
       "      <td>6.0</td>\n",
       "      <td>MANUAL</td>\n",
       "      <td>rear wheel drive</td>\n",
       "      <td>2.0</td>\n",
       "      <td>Factory Tuner,Luxury,High-Performance</td>\n",
       "      <td>Compact</td>\n",
       "      <td>Coupe</td>\n",
       "      <td>26</td>\n",
       "      <td>19</td>\n",
       "      <td>3916</td>\n",
       "      <td>46135</td>\n",
       "    </tr>\n",
       "    <tr>\n",
       "      <th>1</th>\n",
       "      <td>BMW</td>\n",
       "      <td>1 Series</td>\n",
       "      <td>2011</td>\n",
       "      <td>premium unleaded (required)</td>\n",
       "      <td>300.0</td>\n",
       "      <td>6.0</td>\n",
       "      <td>MANUAL</td>\n",
       "      <td>rear wheel drive</td>\n",
       "      <td>2.0</td>\n",
       "      <td>Luxury,Performance</td>\n",
       "      <td>Compact</td>\n",
       "      <td>Convertible</td>\n",
       "      <td>28</td>\n",
       "      <td>19</td>\n",
       "      <td>3916</td>\n",
       "      <td>40650</td>\n",
       "    </tr>\n",
       "    <tr>\n",
       "      <th>2</th>\n",
       "      <td>BMW</td>\n",
       "      <td>1 Series</td>\n",
       "      <td>2011</td>\n",
       "      <td>premium unleaded (required)</td>\n",
       "      <td>300.0</td>\n",
       "      <td>6.0</td>\n",
       "      <td>MANUAL</td>\n",
       "      <td>rear wheel drive</td>\n",
       "      <td>2.0</td>\n",
       "      <td>Luxury,High-Performance</td>\n",
       "      <td>Compact</td>\n",
       "      <td>Coupe</td>\n",
       "      <td>28</td>\n",
       "      <td>20</td>\n",
       "      <td>3916</td>\n",
       "      <td>36350</td>\n",
       "    </tr>\n",
       "    <tr>\n",
       "      <th>3</th>\n",
       "      <td>BMW</td>\n",
       "      <td>1 Series</td>\n",
       "      <td>2011</td>\n",
       "      <td>premium unleaded (required)</td>\n",
       "      <td>230.0</td>\n",
       "      <td>6.0</td>\n",
       "      <td>MANUAL</td>\n",
       "      <td>rear wheel drive</td>\n",
       "      <td>2.0</td>\n",
       "      <td>Luxury,Performance</td>\n",
       "      <td>Compact</td>\n",
       "      <td>Coupe</td>\n",
       "      <td>28</td>\n",
       "      <td>18</td>\n",
       "      <td>3916</td>\n",
       "      <td>29450</td>\n",
       "    </tr>\n",
       "    <tr>\n",
       "      <th>4</th>\n",
       "      <td>BMW</td>\n",
       "      <td>1 Series</td>\n",
       "      <td>2011</td>\n",
       "      <td>premium unleaded (required)</td>\n",
       "      <td>230.0</td>\n",
       "      <td>6.0</td>\n",
       "      <td>MANUAL</td>\n",
       "      <td>rear wheel drive</td>\n",
       "      <td>2.0</td>\n",
       "      <td>Luxury</td>\n",
       "      <td>Compact</td>\n",
       "      <td>Convertible</td>\n",
       "      <td>28</td>\n",
       "      <td>18</td>\n",
       "      <td>3916</td>\n",
       "      <td>34500</td>\n",
       "    </tr>\n",
       "  </tbody>\n",
       "</table>\n",
       "</div>"
      ],
      "text/plain": [
       "  Make       Model  Year             Engine Fuel Type  Engine HP  \\\n",
       "0  BMW  1 Series M  2011  premium unleaded (required)      335.0   \n",
       "1  BMW    1 Series  2011  premium unleaded (required)      300.0   \n",
       "2  BMW    1 Series  2011  premium unleaded (required)      300.0   \n",
       "3  BMW    1 Series  2011  premium unleaded (required)      230.0   \n",
       "4  BMW    1 Series  2011  premium unleaded (required)      230.0   \n",
       "\n",
       "   Engine Cylinders Transmission Type     Driven_Wheels  Number of Doors  \\\n",
       "0               6.0            MANUAL  rear wheel drive              2.0   \n",
       "1               6.0            MANUAL  rear wheel drive              2.0   \n",
       "2               6.0            MANUAL  rear wheel drive              2.0   \n",
       "3               6.0            MANUAL  rear wheel drive              2.0   \n",
       "4               6.0            MANUAL  rear wheel drive              2.0   \n",
       "\n",
       "                         Market Category Vehicle Size Vehicle Style  \\\n",
       "0  Factory Tuner,Luxury,High-Performance      Compact         Coupe   \n",
       "1                     Luxury,Performance      Compact   Convertible   \n",
       "2                Luxury,High-Performance      Compact         Coupe   \n",
       "3                     Luxury,Performance      Compact         Coupe   \n",
       "4                                 Luxury      Compact   Convertible   \n",
       "\n",
       "   highway MPG  city mpg  Popularity   MSRP  \n",
       "0           26        19        3916  46135  \n",
       "1           28        19        3916  40650  \n",
       "2           28        20        3916  36350  \n",
       "3           28        18        3916  29450  \n",
       "4           28        18        3916  34500  "
      ]
     },
     "execution_count": 5,
     "metadata": {},
     "output_type": "execute_result"
    }
   ],
   "source": [
    "carData.head(5)"
   ]
  },
  {
   "cell_type": "code",
   "execution_count": 25,
   "id": "fb6d3eb1",
   "metadata": {},
   "outputs": [],
   "source": [
    "strings = list(carData.dtypes[carData.dtypes == object].index)\n",
    "for col in strings: \n",
    "    carData[col] = carData[col].str.lower().str.replace(\" \", \"_\")\n",
    "carData.columns = carData.columns.str.lower().str.replace(' ', '_')"
   ]
  },
  {
   "cell_type": "code",
   "execution_count": 26,
   "id": "376a8c57",
   "metadata": {},
   "outputs": [
    {
     "name": "stdout",
     "output_type": "stream",
     "text": [
      "make ['bmw' 'audi' 'fiat' 'mercedes-benz' 'chrysler'] 48\n",
      "model ['1_series_m' '1_series' '100' '124_spider' '190-class'] 914\n",
      "year [2011 2012 2013 1992 1993] 28\n",
      "engine_fuel_type ['premium_unleaded_(required)' 'regular_unleaded'\n",
      " 'premium_unleaded_(recommended)' 'flex-fuel_(unleaded/e85)' 'diesel'] 10\n",
      "engine_hp [335. 300. 230. 320. 172.] 356\n",
      "engine_cylinders [ 6.  4.  5.  8. 12.] 9\n",
      "transmission_type ['manual' 'automatic' 'automated_manual' 'direct_drive' 'unknown'] 5\n",
      "driven_wheels ['rear_wheel_drive' 'front_wheel_drive' 'all_wheel_drive'\n",
      " 'four_wheel_drive'] 4\n",
      "number_of_doors [ 2.  4.  3. nan] 3\n",
      "market_category ['factory_tuner,luxury,high-performance' 'luxury,performance'\n",
      " 'luxury,high-performance' 'luxury' 'performance'] 71\n",
      "vehicle_size ['compact' 'midsize' 'large'] 3\n",
      "vehicle_style ['coupe' 'convertible' 'sedan' 'wagon' '4dr_hatchback'] 16\n",
      "highway_mpg [26 28 27 25 24] 59\n",
      "city_mpg [19 20 18 17 16] 69\n",
      "popularity [3916 3105  819  617 1013] 48\n",
      "msrp [46135 40650 36350 29450 34500] 6049\n"
     ]
    }
   ],
   "source": [
    "for col in carData.columns:\n",
    "    print(col, carData[col].unique()[:5], carData[col].nunique())"
   ]
  },
  {
   "cell_type": "code",
   "execution_count": 20,
   "id": "3f59e518",
   "metadata": {},
   "outputs": [
    {
     "ename": "AttributeError",
     "evalue": "'DataFrame' object has no attribute 'msrp'",
     "output_type": "error",
     "traceback": [
      "\u001b[31m---------------------------------------------------------------------------\u001b[39m",
      "\u001b[31mAttributeError\u001b[39m                            Traceback (most recent call last)",
      "\u001b[32m/tmp/ipykernel_1965/3478223733.py\u001b[39m in \u001b[36m?\u001b[39m\u001b[34m()\u001b[39m\n\u001b[32m----> \u001b[39m\u001b[32m1\u001b[39m sns.histplot(carData.msrp[carData.msrp<\u001b[32m100000\u001b[39m], bins=\u001b[32m50\u001b[39m)\n",
      "\u001b[32m/usr/local/python/3.12.1/lib/python3.12/site-packages/pandas/core/generic.py\u001b[39m in \u001b[36m?\u001b[39m\u001b[34m(self, name)\u001b[39m\n\u001b[32m   6295\u001b[39m             \u001b[38;5;28;01mand\u001b[39;00m name \u001b[38;5;28;01mnot\u001b[39;00m \u001b[38;5;28;01min\u001b[39;00m self._accessors\n\u001b[32m   6296\u001b[39m             \u001b[38;5;28;01mand\u001b[39;00m self._info_axis._can_hold_identifiers_and_holds_name(name)\n\u001b[32m   6297\u001b[39m         ):\n\u001b[32m   6298\u001b[39m             \u001b[38;5;28;01mreturn\u001b[39;00m self[name]\n\u001b[32m-> \u001b[39m\u001b[32m6299\u001b[39m         \u001b[38;5;28;01mreturn\u001b[39;00m object.__getattribute__(self, name)\n",
      "\u001b[31mAttributeError\u001b[39m: 'DataFrame' object has no attribute 'msrp'"
     ]
    }
   ],
   "source": [
    "sns.histplot(carData.msrp[carData.msrp<100000], bins=50)"
   ]
  },
  {
   "cell_type": "code",
   "execution_count": 27,
   "id": "7a2bb360",
   "metadata": {},
   "outputs": [
    {
     "data": {
      "text/plain": [
       "<Axes: xlabel='msrp', ylabel='Count'>"
      ]
     },
     "execution_count": 27,
     "metadata": {},
     "output_type": "execute_result"
    },
    {
     "data": {
      "image/png": "[encoded data removed]",
      "text/plain": [
       "<Figure size 640x480 with 1 Axes>"
      ]
     },
     "metadata": {},
     "output_type": "display_data"
    }
   ],
   "source": [
    "price_logs = np.log1p(carData.msrp)\n",
    "sns.histplot(price_logs)"
   ]
  },
  {
   "cell_type": "code",
   "execution_count": 28,
   "id": "30d3022a",
   "metadata": {},
   "outputs": [],
   "source": [
    "n  = len (carData)\n",
    "n_val = int(n * 0.2)\n",
    "n_test = int(n*0.2)\n",
    "n_train = n - n_val-n_test\n",
    "\n",
    "perm = np.random.permutation(n)\n",
    "trainData, testData, valData = carData.iloc[perm[:n_train]], carData.iloc[perm[n_train: n_train+n_test]], carData.iloc[perm[-n_val:]]"
   ]
  },
  {
   "cell_type": "code",
   "execution_count": 29,
   "id": "eb259d9b",
   "metadata": {},
   "outputs": [],
   "source": [
    "trainData= trainData.reset_index(drop=True)\n",
    "testData = testData.reset_index(drop=True)\n",
    "valData = valData.reset_index(drop=True)"
   ]
  },
  {
   "cell_type": "code",
   "execution_count": 31,
   "id": "beba76e8",
   "metadata": {},
   "outputs": [],
   "source": [
    "y_train = np.log1p(trainData.msrp.values)\n",
    "y_test = np.log1p(testData.msrp.values)\n",
    "y_val = np.log1p(valData.msrp.values)"
   ]
  },
  {
   "cell_type": "code",
   "execution_count": 2,
   "id": "f7fffd1e",
   "metadata": {},
   "outputs": [],
   "source": [
    "def train_linearreg(X, y):\n",
    "    ones = np.ones(X.shape[0])\n",
    "    X = np.column_stack([ones, X])\n",
    "    XTX = np.matmul(X.T, X)\n",
    "    XTX_inv = np.linalg.inv(XTX)\n",
    "    w =  np.matmul(np.matmul(XTX_inv, X.T), y)\n",
    "    return w[0], w[1:]\n",
    "def prep_X(df):\n",
    "    base = ['engine_hp', 'engine_cylinders', 'highway_mpg', 'city_mpg', 'popularity']\n",
    "    df_num = df[base]\n",
    "    df_num = df_num.fillna(0)\n",
    "    return df_num.values"
   ]
  },
  {
   "cell_type": "code",
   "execution_count": 44,
   "id": "958b9d8d",
   "metadata": {},
   "outputs": [],
   "source": [
    "X_train = prep_X(trainData)\n",
    "w_0, w = train_linearreg(X_train, y_train)"
   ]
  },
  {
   "cell_type": "code",
   "execution_count": 46,
   "id": "2086e12b",
   "metadata": {},
   "outputs": [],
   "source": [
    "y_pred = w_0 + np.matmul(X_train, w)"
   ]
  },
  {
   "cell_type": "code",
   "execution_count": 48,
   "id": "0e1b0a4d",
   "metadata": {},
   "outputs": [
    {
     "data": {
      "image/png": "[encoded data removed]",
      "text/plain": [
       "<Figure size 600x400 with 1 Axes>"
      ]
     },
     "metadata": {},
     "output_type": "display_data"
    }
   ],
   "source": [
    "plt.figure(figsize=(6,4))\n",
    "sns.histplot(y_train, label='target', color='#222222', alpha=0.6, bins=40)\n",
    "sns.histplot(y_pred, label='prediction', color='#aaaaaa', alpha=0.8, bins=40)\n",
    "plt.legend()\n",
    "plt.ylabel('Frequency')\n",
    "plt.xlabel('Log(Price + 1)')\n",
    "plt.title('Predictions vs actual distributions')\n",
    "plt.show()"
   ]
  },
  {
   "cell_type": "code",
   "execution_count": 8,
   "id": "44f2c86f",
   "metadata": {},
   "outputs": [],
   "source": [
    "def rmse(y, y_pred):\n",
    "    diff = y - y_pred\n",
    "    return (np.matmul(diff.T, diff)/len(diff)).item()\n",
    "   "
   ]
  },
  {
   "cell_type": "code",
   "execution_count": 71,
   "id": "b907af71",
   "metadata": {},
   "outputs": [
    {
     "data": {
      "text/plain": [
       "0.569199162855279"
      ]
     },
     "execution_count": 71,
     "metadata": {},
     "output_type": "execute_result"
    }
   ],
   "source": [
    "rmse(y_train, y_pred)"
   ]
  },
  {
   "cell_type": "code",
   "execution_count": 72,
   "id": "6ca5694d",
   "metadata": {},
   "outputs": [],
   "source": [
    "base = ['engine_hp', 'engine_cylinders', 'highway_mpg', 'city_mpg', 'popularity']\n",
    "def prepare_X(df):\n",
    "    features = base.copy()\n",
    "    features.append('age')\n",
    "    df['age'] = 2017 - df.year\n",
    "    df_num = df[features]\n",
    "    df_num = df_num.fillna(0)\n",
    "    X = df_num.values() \n",
    "    return X "
   ]
  },
  {
   "cell_type": "code",
   "execution_count": 3,
   "id": "13415e3e",
   "metadata": {},
   "outputs": [],
   "source": [
    "effData = pd.read_csv('https://raw.githubusercontent.com/alexeygrigorev/datasets/master/car_fuel_efficiency.csv')"
   ]
  },
  {
   "cell_type": "code",
   "execution_count": 74,
   "id": "bbcb9ca0",
   "metadata": {},
   "outputs": [
    {
     "name": "stdout",
     "output_type": "stream",
     "text": [
      "<class 'pandas.core.frame.DataFrame'>\n",
      "RangeIndex: 9704 entries, 0 to 9703\n",
      "Data columns (total 11 columns):\n",
      " #   Column               Non-Null Count  Dtype  \n",
      "---  ------               --------------  -----  \n",
      " 0   engine_displacement  9704 non-null   int64  \n",
      " 1   num_cylinders        9222 non-null   float64\n",
      " 2   horsepower           8996 non-null   float64\n",
      " 3   vehicle_weight       9704 non-null   float64\n",
      " 4   acceleration         8774 non-null   float64\n",
      " 5   model_year           9704 non-null   int64  \n",
      " 6   origin               9704 non-null   object \n",
      " 7   fuel_type            9704 non-null   object \n",
      " 8   drivetrain           9704 non-null   object \n",
      " 9   num_doors            9202 non-null   float64\n",
      " 10  fuel_efficiency_mpg  9704 non-null   float64\n",
      "dtypes: float64(6), int64(2), object(3)\n",
      "memory usage: 834.1+ KB\n"
     ]
    }
   ],
   "source": [
    "effData.info()"
   ]
  },
  {
   "cell_type": "code",
   "execution_count": null,
   "id": "0d8e478e",
   "metadata": {},
   "outputs": [
    {
     "data": {
      "text/plain": [
       "<Axes: xlabel='fuel_efficiency_mpg', ylabel='Count'>"
      ]
     },
     "execution_count": 75,
     "metadata": {},
     "output_type": "execute_result"
    },
    {
     "data": {
      "image/png": "[encoded data removed]",
      "text/plain": [
       "<Figure size 640x480 with 1 Axes>"
      ]
     },
     "metadata": {},
     "output_type": "display_data"
    }
   ],
   "source": [
    "sns.histplot(effData.fuel_efficiency_mpg, bins=50)"
   ]
  },
  {
   "cell_type": "code",
   "execution_count": 4,
   "id": "841ddc7d",
   "metadata": {},
   "outputs": [
    {
     "data": {
      "text/plain": [
       "engine_displacement      0\n",
       "horsepower             708\n",
       "vehicle_weight           0\n",
       "model_year               0\n",
       "fuel_efficiency_mpg      0\n",
       "dtype: int64"
      ]
     },
     "execution_count": 4,
     "metadata": {},
     "output_type": "execute_result"
    }
   ],
   "source": [
    "effData = effData[['engine_displacement',\n",
    "'horsepower',\n",
    "'vehicle_weight',\n",
    "'model_year',\n",
    "'fuel_efficiency_mpg']]\n",
    "effData.isna().sum()"
   ]
  },
  {
   "cell_type": "code",
   "execution_count": 78,
   "id": "30ae0636",
   "metadata": {},
   "outputs": [
    {
     "data": {
      "text/plain": [
       "np.float64(149.0)"
      ]
     },
     "execution_count": 78,
     "metadata": {},
     "output_type": "execute_result"
    }
   ],
   "source": [
    "effData.horsepower.median()"
   ]
  },
  {
   "cell_type": "code",
   "execution_count": 5,
   "id": "d738c5d9",
   "metadata": {},
   "outputs": [
    {
     "name": "stdout",
     "output_type": "stream",
     "text": [
      "[ 483 7506 8795 ... 5390  860 7270]\n"
     ]
    }
   ],
   "source": [
    "np.random.seed(42)\n",
    "idx = np.arange(len(effData))\n",
    "np.random.shuffle(idx)\n",
    "n = len(effData)\n",
    "print(idx)\n",
    "idx_train, idx_v, idx_test = idx[:int(n*0.6)], idx[int(n*0.6): int(n*0.8)], idx[int(n*0.8):]\n",
    "d_train , d_val, d_test = effData.iloc[idx_train], effData.iloc[idx_v], effData.iloc[idx_test]"
   ]
  },
  {
   "cell_type": "code",
   "execution_count": 90,
   "id": "2eff3174",
   "metadata": {},
   "outputs": [
    {
     "data": {
      "text/html": [
       "<div>\n",
       "<style scoped>\n",
       "    .dataframe tbody tr th:only-of-type {\n",
       "        vertical-align: middle;\n",
       "    }\n",
       "\n",
       "    .dataframe tbody tr th {\n",
       "        vertical-align: top;\n",
       "    }\n",
       "\n",
       "    .dataframe thead th {\n",
       "        text-align: right;\n",
       "    }\n",
       "</style>\n",
       "<table border=\"1\" class=\"dataframe\">\n",
       "  <thead>\n",
       "    <tr style=\"text-align: right;\">\n",
       "      <th></th>\n",
       "      <th>engine_displacement</th>\n",
       "      <th>horsepower</th>\n",
       "      <th>vehicle_weight</th>\n",
       "      <th>model_year</th>\n",
       "      <th>fuel_efficiency_mpg</th>\n",
       "    </tr>\n",
       "  </thead>\n",
       "  <tbody>\n",
       "    <tr>\n",
       "      <th>483</th>\n",
       "      <td>220</td>\n",
       "      <td>144.0</td>\n",
       "      <td>2535.887591</td>\n",
       "      <td>2009</td>\n",
       "      <td>16.642943</td>\n",
       "    </tr>\n",
       "  </tbody>\n",
       "</table>\n",
       "</div>"
      ],
      "text/plain": [
       "     engine_displacement  horsepower  vehicle_weight  model_year  \\\n",
       "483                  220       144.0     2535.887591        2009   \n",
       "\n",
       "     fuel_efficiency_mpg  \n",
       "483            16.642943  "
      ]
     },
     "execution_count": 90,
     "metadata": {},
     "output_type": "execute_result"
    }
   ],
   "source": [
    "d_train.head(1)"
   ]
  },
  {
   "cell_type": "code",
   "execution_count": 11,
   "id": "4aa89c23",
   "metadata": {},
   "outputs": [],
   "source": [
    "df = d_train.fillna(0)\n",
    "df_v = d_val.fillna(0)\n",
    "y_train = df.fuel_efficiency_mpg\n",
    "y_val = d_val.fuel_efficiency_mpg\n",
    "del df['fuel_efficiency_mpg']\n",
    "del df_v['fuel_efficiency_mpg']\n"
   ]
  },
  {
   "cell_type": "code",
   "execution_count": 9,
   "id": "77f180e7",
   "metadata": {},
   "outputs": [
    {
     "data": {
      "text/plain": [
       "0.21478198670974327"
      ]
     },
     "execution_count": 9,
     "metadata": {},
     "output_type": "execute_result"
    }
   ],
   "source": [
    "w0, w = train_linearreg(df, y_train)\n",
    "y_pred = np.matmul(df_v, w) + w0 \n",
    "rmse(y_pred, y_val)\n"
   ]
  },
  {
   "cell_type": "code",
   "execution_count": 38,
   "id": "e3b9314e",
   "metadata": {},
   "outputs": [],
   "source": [
    "def train_linear_regression_reg(X, y, r=0.0):\n",
    "    ones = np.ones(X.shape[0])\n",
    "    X = np.column_stack([ones, X])\n",
    "\n",
    "    XTX = X.T.dot(X)\n",
    "    reg = r * np.eye(XTX.shape[0])\n",
    "    XTX = XTX + reg\n",
    "\n",
    "    XTX_inv = np.linalg.inv(XTX)\n",
    "    w = XTX_inv.dot(X.T).dot(y)\n",
    "    \n",
    "    return w[0], w[1:]\n"
   ]
  },
  {
   "cell_type": "code",
   "execution_count": 12,
   "id": "630165ad",
   "metadata": {},
   "outputs": [
    {
     "name": "stdout",
     "output_type": "stream",
     "text": [
      "    0, 0.28\n",
      "0.001, 0.56\n",
      " 0.01, 16.25\n",
      "  0.1, 312.77\n",
      "    1, 738.83\n",
      "   10, 825.29\n"
     ]
    }
   ],
   "source": [
    "for r in [0, 0.001, 0.01, 0.1, 1, 10]:\n",
    "    w_0, w = train_linear_regression_reg(df, y_train, r=r)\n",
    "    y_pred = np.matmul(df_v, w) + w0 \n",
    "    rm = rmse(y_pred, y_val)\n",
    "    print('%5s, %.2f' % (r, rm))\n"
   ]
  },
  {
   "cell_type": "code",
   "execution_count": 29,
   "id": "c62ec56d",
   "metadata": {},
   "outputs": [
    {
     "name": "stdout",
     "output_type": "stream",
     "text": [
      "0.2716743173412933\n",
      "0.27226720502776003\n",
      "0.27345818925676163\n",
      "0.2663958282751185\n",
      "0.26117776273328386\n",
      "0.2794189072108857\n",
      "0.28322202703491683\n",
      "0.25955151150840416\n",
      "0.26511820836918876\n",
      "0.26317051401563096\n"
     ]
    },
    {
     "data": {
      "text/plain": [
       "np.longdouble('0.007')"
      ]
     },
     "execution_count": 29,
     "metadata": {},
     "output_type": "execute_result"
    }
   ],
   "source": [
    "vals = np.array([], dtype=np.float128) \n",
    "for seeed in [0, 1, 2, 3, 4, 5, 6, 7, 8, 9]: \n",
    "    np.random.seed(seeed)\n",
    "    idx = np.arange(len(effData))\n",
    "    np.random.shuffle(idx)\n",
    "    n = len(effData)\n",
    "    idx_train, idx_v, idx_test = idx[:int(n*0.6)], idx[int(n*0.6): int(n*0.8)], idx[int(n*0.8):]\n",
    "    d_train , d_val, d_test = effData.iloc[idx_train], effData.iloc[idx_v], effData.iloc[idx_test]\n",
    "    df = d_train.fillna(0)\n",
    "    df_v = d_val.fillna(0)\n",
    "    y_train = df.fuel_efficiency_mpg\n",
    "    y_val = d_val.fuel_efficiency_mpg\n",
    "    del df['fuel_efficiency_mpg']\n",
    "    del df_v['fuel_efficiency_mpg']\n",
    "    w0, w = train_linearreg(df, y_train)\n",
    "    y_pred = np.matmul(df_v, w) + w0 \n",
    "    print(rmse(y_pred, y_val))\n",
    "    vals = np.append(vals, rmse(y_pred, y_val))\n",
    "round(vals.std(), 3)\n",
    "\n"
   ]
  },
  {
   "cell_type": "code",
   "execution_count": 39,
   "id": "a65f7abf",
   "metadata": {},
   "outputs": [
    {
     "name": "stdout",
     "output_type": "stream",
     "text": [
      "0.2658810456978741\n"
     ]
    }
   ],
   "source": [
    "np.random.seed(9)\n",
    "idx = np.arange(len(effData))\n",
    "np.random.shuffle(idx)\n",
    "n = len(effData)\n",
    "idx_train, idx_test = idx[:int(n*0.8)], idx[int(n*0.8):]\n",
    "d_train, d_test = effData.iloc[idx_train], effData.iloc[idx_test]\n",
    "df = d_train.fillna(0)\n",
    "df_test = d_test.fillna(0)\n",
    "y_train = df.fuel_efficiency_mpg\n",
    "y_test = df_test.fuel_efficiency_mpg\n",
    "del df['fuel_efficiency_mpg']\n",
    "del df_test['fuel_efficiency_mpg']\n",
    "w0, w = train_linear_regression_reg(df, y_train, 0.001)\n",
    "y_pred = np.matmul(df_test, w) + w0 \n",
    "print(rmse(y_pred, y_test))\n"
   ]
  },
  {
   "cell_type": "code",
   "execution_count": null,
   "id": "f7e6835c",
   "metadata": {},
   "outputs": [
    {
     "data": {
      "text/plain": [
       "array([1.], dtype=float128)"
      ]
     },
     "execution_count": 24,
     "metadata": {},
     "output_type": "execute_result"
    }
   ],
   "source": []
  },
  {
   "cell_type": "code",
   "execution_count": null,
   "id": "a4283453",
   "metadata": {},
   "outputs": [],
   "source": []
  }
 ],
 "metadata": {
  "kernelspec": {
   "display_name": "Python 3",
   "language": "python",
   "name": "python3"
  },
  "language_info": {
   "codemirror_mode": {
    "name": "ipython",
    "version": 3
   },
   "file_extension": ".py",
   "mimetype": "text/x-python",
   "name": "python",
   "nbconvert_exporter": "python",
   "pygments_lexer": "ipython3",
   "version": "3.12.1"
  }
 },
 "nbformat": 4,
 "nbformat_minor": 5
}
